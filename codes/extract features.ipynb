{
 "cells": [
  {
   "cell_type": "code",
   "execution_count": 20,
   "metadata": {},
   "outputs": [],
   "source": [
    "import numpy as np\n",
    "import os\n",
    "import pandas as pd"
   ]
  },
  {
   "cell_type": "code",
   "execution_count": 21,
   "metadata": {},
   "outputs": [],
   "source": [
    "def extract_features(data):\n",
    "    features = {}\n",
    "    for i, channel_data in enumerate(data.T):  # Transpose data to iterate along columns\n",
    "        channel_features = {}\n",
    "        channel_features['mean'] = np.mean(channel_data)\n",
    "        channel_features['std_dev'] = np.std(channel_data)\n",
    "        channel_features['min'] = np.min(channel_data)\n",
    "        channel_features['max'] = np.max(channel_data)\n",
    "        # Add more features as needed for each channel\n",
    "        features[f'channel_{i+1}'] = channel_features\n",
    "    return features"
   ]
  },
  {
   "cell_type": "code",
   "execution_count": 38,
   "metadata": {},
   "outputs": [],
   "source": [
    "# Path to your dataset directory containing numpy files\n",
    "dataset_dir = r'C:\\Users\\Hussein.Bassal\\Desktop\\Hardness with windowing\\Hardness window 500 Num\\Cube 7'\n",
    "\n",
    "# Prompt the user to input the output directory path\n",
    "output_dir = r\"C:\\Users\\Hussein.Bassal\\Desktop\\Hardness with windowing\\Hardness window 500 features\\Cube 7\"\n",
    "\n",
    "# Loop through each numpy file in the directory\n",
    "for file_name in os.listdir(dataset_dir):\n",
    "    if file_name.endswith('.npy'):\n",
    "        file_path = os.path.join(dataset_dir, file_name)\n",
    "        \n",
    "        # Load the numpy file\n",
    "        data = np.load(file_path)\n",
    "        \n",
    "        # Extract features from each channel\n",
    "        features = extract_features(data)\n",
    "        \n",
    "        # Create a DataFrame from the features\n",
    "        df = pd.DataFrame(features)\n",
    "        \n",
    "        # Construct the new file name with the output directory\n",
    "        new_file_name = file_name.split('.')[0] + '_feature.npy'\n",
    "        new_file_path = os.path.join(output_dir, new_file_name)\n",
    "        \n",
    "        # Save the features to a new numpy file\n",
    "        np.save(new_file_path, df.to_numpy())"
   ]
  }
 ],
 "metadata": {
  "kernelspec": {
   "display_name": "Python 3",
   "language": "python",
   "name": "python3"
  },
  "language_info": {
   "codemirror_mode": {
    "name": "ipython",
    "version": 3
   },
   "file_extension": ".py",
   "mimetype": "text/x-python",
   "name": "python",
   "nbconvert_exporter": "python",
   "pygments_lexer": "ipython3",
   "version": "3.12.3"
  }
 },
 "nbformat": 4,
 "nbformat_minor": 2
}
