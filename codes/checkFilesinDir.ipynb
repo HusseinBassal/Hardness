{
 "cells": [
  {
   "cell_type": "code",
   "execution_count": 3,
   "metadata": {},
   "outputs": [
    {
     "name": "stdout",
     "output_type": "stream",
     "text": [
      "['Hardness_Voltage_Seq1_Sp150_Cube3_t10_window_100_feature.npy', 'Hardness_Voltage_Seq1_Sp150_Cube3_t1_window_100_feature.npy', 'Hardness_Voltage_Seq1_Sp150_Cube3_t2_window_100_feature.npy', 'Hardness_Voltage_Seq1_Sp150_Cube3_t3_window_100_feature.npy', 'Hardness_Voltage_Seq1_Sp150_Cube3_t4_window_100_feature.npy', 'Hardness_Voltage_Seq1_Sp150_Cube3_t5_window_100_feature.npy', 'Hardness_Voltage_Seq1_Sp150_Cube3_t6_window_100_feature.npy', 'Hardness_Voltage_Seq1_Sp150_Cube3_t7_window_100_feature.npy', 'Hardness_Voltage_Seq1_Sp150_Cube3_t8_window_100_feature.npy', 'Hardness_Voltage_Seq1_Sp150_Cube3_t9_window_100_feature.npy', 'Hardness_Voltage_Seq1_Sp300_Cube3_t10_window_100_feature.npy', 'Hardness_Voltage_Seq1_Sp300_Cube3_t1_window_100_feature.npy', 'Hardness_Voltage_Seq1_Sp300_Cube3_t2_window_100_feature.npy', 'Hardness_Voltage_Seq1_Sp300_Cube3_t3_window_100_feature.npy', 'Hardness_Voltage_Seq1_Sp300_Cube3_t4_window_100_feature.npy', 'Hardness_Voltage_Seq1_Sp300_Cube3_t5_window_100_feature.npy', 'Hardness_Voltage_Seq1_Sp300_Cube3_t6_window_100_feature.npy', 'Hardness_Voltage_Seq1_Sp300_Cube3_t7_window_100_feature.npy', 'Hardness_Voltage_Seq1_Sp300_Cube3_t8_window_100_feature.npy', 'Hardness_Voltage_Seq1_Sp300_Cube3_t9_window_100_feature.npy', 'Hardness_Voltage_Seq1_Sp450_Cube3_t10_window_100_feature.npy', 'Hardness_Voltage_Seq1_Sp450_Cube3_t1_window_100_feature.npy', 'Hardness_Voltage_Seq1_Sp450_Cube3_t2_window_100_feature.npy', 'Hardness_Voltage_Seq1_Sp450_Cube3_t3_window_100_feature.npy', 'Hardness_Voltage_Seq1_Sp450_Cube3_t4_window_100_feature.npy', 'Hardness_Voltage_Seq1_Sp450_Cube3_t5_window_100_feature.npy', 'Hardness_Voltage_Seq1_Sp450_Cube3_t6_window_100_feature.npy', 'Hardness_Voltage_Seq1_Sp450_Cube3_t7_window_100_feature.npy', 'Hardness_Voltage_Seq1_Sp450_Cube3_t8_window_100_feature.npy', 'Hardness_Voltage_Seq1_Sp450_Cube3_t9_window_100_feature.npy', 'Hardness_Voltage_Seq2_Sp150_Cube3_t10_window_100_feature.npy', 'Hardness_Voltage_Seq2_Sp150_Cube3_t1_window_100_feature.npy', 'Hardness_Voltage_Seq2_Sp150_Cube3_t2_window_100_feature.npy', 'Hardness_Voltage_Seq2_Sp150_Cube3_t3_window_100_feature.npy', 'Hardness_Voltage_Seq2_Sp150_Cube3_t4_window_100_feature.npy', 'Hardness_Voltage_Seq2_Sp150_Cube3_t5_window_100_feature.npy', 'Hardness_Voltage_Seq2_Sp150_Cube3_t6_window_100_feature.npy', 'Hardness_Voltage_Seq2_Sp150_Cube3_t7_window_100_feature.npy', 'Hardness_Voltage_Seq2_Sp150_Cube3_t8_window_100_feature.npy', 'Hardness_Voltage_Seq2_Sp150_Cube3_t9_window_100_feature.npy', 'Hardness_Voltage_Seq2_Sp300_Cube3_t10_window_100_feature.npy', 'Hardness_Voltage_Seq2_Sp300_Cube3_t1_window_100_feature.npy', 'Hardness_Voltage_Seq2_Sp300_Cube3_t2_window_100_feature.npy', 'Hardness_Voltage_Seq2_Sp300_Cube3_t3_window_100_feature.npy', 'Hardness_Voltage_Seq2_Sp300_Cube3_t4_window_100_feature.npy', 'Hardness_Voltage_Seq2_Sp300_Cube3_t5_window_100_feature.npy', 'Hardness_Voltage_Seq2_Sp300_Cube3_t6_window_100_feature.npy', 'Hardness_Voltage_Seq2_Sp300_Cube3_t7_window_100_feature.npy', 'Hardness_Voltage_Seq2_Sp300_Cube3_t8_window_100_feature.npy', 'Hardness_Voltage_Seq2_Sp300_Cube3_t9_window_100_feature.npy', 'Hardness_Voltage_Seq2_Sp450_Cube3_t10_window_100_feature.npy', 'Hardness_Voltage_Seq2_Sp450_Cube3_t1_window_100_feature.npy', 'Hardness_Voltage_Seq2_Sp450_Cube3_t2_window_100_feature.npy', 'Hardness_Voltage_Seq2_Sp450_Cube3_t3_window_100_feature.npy', 'Hardness_Voltage_Seq2_Sp450_Cube3_t4_window_100_feature.npy', 'Hardness_Voltage_Seq2_Sp450_Cube3_t5_window_100_feature.npy', 'Hardness_Voltage_Seq2_Sp450_Cube3_t6_window_100_feature.npy', 'Hardness_Voltage_Seq2_Sp450_Cube3_t7_window_100_feature.npy', 'Hardness_Voltage_Seq2_Sp450_Cube3_t8_window_100_feature.npy', 'Hardness_Voltage_Seq2_Sp450_Cube3_t9_window_100_feature.npy', 'Hardness_Voltage_Seq3_Sp150_Cube3_t10_window_100_feature.npy', 'Hardness_Voltage_Seq3_Sp150_Cube3_t1_window_100_feature.npy', 'Hardness_Voltage_Seq3_Sp150_Cube3_t2_window_100_feature.npy', 'Hardness_Voltage_Seq3_Sp150_Cube3_t3_window_100_feature.npy', 'Hardness_Voltage_Seq3_Sp150_Cube3_t4_window_100_feature.npy', 'Hardness_Voltage_Seq3_Sp150_Cube3_t5_window_100_feature.npy', 'Hardness_Voltage_Seq3_Sp150_Cube3_t6_window_100_feature.npy', 'Hardness_Voltage_Seq3_Sp150_Cube3_t7_window_100_feature.npy', 'Hardness_Voltage_Seq3_Sp150_Cube3_t8_window_100_feature.npy', 'Hardness_Voltage_Seq3_Sp150_Cube3_t9_window_100_feature.npy', 'Hardness_Voltage_Seq3_Sp300_Cube3_t10_window_100_feature.npy', 'Hardness_Voltage_Seq3_Sp300_Cube3_t1_window_100_feature.npy', 'Hardness_Voltage_Seq3_Sp300_Cube3_t2_window_100_feature.npy', 'Hardness_Voltage_Seq3_Sp300_Cube3_t3_window_100_feature.npy', 'Hardness_Voltage_Seq3_Sp300_Cube3_t4_window_100_feature.npy', 'Hardness_Voltage_Seq3_Sp300_Cube3_t5_window_100_feature.npy', 'Hardness_Voltage_Seq3_Sp300_Cube3_t6_window_100_feature.npy', 'Hardness_Voltage_Seq3_Sp300_Cube3_t7_window_100_feature.npy', 'Hardness_Voltage_Seq3_Sp300_Cube3_t8_window_100_feature.npy', 'Hardness_Voltage_Seq3_Sp300_Cube3_t9_window_100_feature.npy', 'Hardness_Voltage_Seq3_Sp450_Cube3_t10_window_100_feature.npy', 'Hardness_Voltage_Seq3_Sp450_Cube3_t1_window_100_feature.npy', 'Hardness_Voltage_Seq3_Sp450_Cube3_t2_window_100_feature.npy', 'Hardness_Voltage_Seq3_Sp450_Cube3_t3_window_100_feature.npy', 'Hardness_Voltage_Seq3_Sp450_Cube3_t4_window_100_feature.npy', 'Hardness_Voltage_Seq3_Sp450_Cube3_t5_window_100_feature.npy', 'Hardness_Voltage_Seq3_Sp450_Cube3_t6_window_100_feature.npy', 'Hardness_Voltage_Seq3_Sp450_Cube3_t7_window_100_feature.npy', 'Hardness_Voltage_Seq3_Sp450_Cube3_t8_window_100_feature.npy', 'Hardness_Voltage_Seq3_Sp450_Cube3_t9_window_100_feature.npy', 'Hardness_Voltage_Seq4_Sp150_Cube3_t10_window_100_feature.npy', 'Hardness_Voltage_Seq4_Sp150_Cube3_t1_window_100_feature.npy', 'Hardness_Voltage_Seq4_Sp150_Cube3_t2_window_100_feature.npy', 'Hardness_Voltage_Seq4_Sp150_Cube3_t3_window_100_feature.npy', 'Hardness_Voltage_Seq4_Sp150_Cube3_t4_window_100_feature.npy', 'Hardness_Voltage_Seq4_Sp150_Cube3_t5_window_100_feature.npy', 'Hardness_Voltage_Seq4_Sp150_Cube3_t6_window_100_feature.npy', 'Hardness_Voltage_Seq4_Sp150_Cube3_t7_window_100_feature.npy', 'Hardness_Voltage_Seq4_Sp150_Cube3_t8_window_100_feature.npy', 'Hardness_Voltage_Seq4_Sp150_Cube3_t9_window_100_feature.npy', 'Hardness_Voltage_Seq4_Sp300_Cube3_t10_window_100_feature.npy', 'Hardness_Voltage_Seq4_Sp300_Cube3_t1_window_100_feature.npy', 'Hardness_Voltage_Seq4_Sp300_Cube3_t2_window_100_feature.npy', 'Hardness_Voltage_Seq4_Sp300_Cube3_t3_window_100_feature.npy', 'Hardness_Voltage_Seq4_Sp300_Cube3_t4_window_100_feature.npy', 'Hardness_Voltage_Seq4_Sp300_Cube3_t5_window_100_feature.npy', 'Hardness_Voltage_Seq4_Sp300_Cube3_t6_window_100_feature.npy', 'Hardness_Voltage_Seq4_Sp300_Cube3_t7_window_100_feature.npy', 'Hardness_Voltage_Seq4_Sp300_Cube3_t8_window_100_feature.npy', 'Hardness_Voltage_Seq4_Sp300_Cube3_t9_window_100_feature.npy', 'Hardness_Voltage_Seq4_Sp450_Cube3_t10_window_100_feature.npy', 'Hardness_Voltage_Seq4_Sp450_Cube3_t1_window_100_feature.npy', 'Hardness_Voltage_Seq4_Sp450_Cube3_t2_window_100_feature.npy', 'Hardness_Voltage_Seq4_Sp450_Cube3_t3_window_100_feature.npy', 'Hardness_Voltage_Seq4_Sp450_Cube3_t4_window_100_feature.npy', 'Hardness_Voltage_Seq4_Sp450_Cube3_t5_window_100_feature.npy', 'Hardness_Voltage_Seq4_Sp450_Cube3_t6_window_100_feature.npy', 'Hardness_Voltage_Seq4_Sp450_Cube3_t7_window_100_feature.npy', 'Hardness_Voltage_Seq4_Sp450_Cube3_t8_window_100_feature.npy', 'Hardness_Voltage_Seq4_Sp450_Cube3_t9_window_100_feature.npy']\n"
     ]
    }
   ],
   "source": [
    "import os\n",
    "\n",
    "# List files in the directory\n",
    "files = os.listdir('C:\\\\Users\\\\Hussein.Bassal\\\\Desktop\\\\trial 1')\n",
    "print(files)"
   ]
  }
 ],
 "metadata": {
  "kernelspec": {
   "display_name": "Python 3",
   "language": "python",
   "name": "python3"
  },
  "language_info": {
   "codemirror_mode": {
    "name": "ipython",
    "version": 3
   },
   "file_extension": ".py",
   "mimetype": "text/x-python",
   "name": "python",
   "nbconvert_exporter": "python",
   "pygments_lexer": "ipython3",
   "version": "3.12.3"
  }
 },
 "nbformat": 4,
 "nbformat_minor": 2
}
